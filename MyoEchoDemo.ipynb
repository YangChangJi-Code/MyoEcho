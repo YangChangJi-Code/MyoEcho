{
 "cells": [
  {
   "cell_type": "code",
   "execution_count": 1,
   "metadata": {},
   "outputs": [],
   "source": [
    "from myoecho import SingleViewScreening, SingleViewDiagnosis, MultileViewDiagnosis\n",
    "from utils import load_view, label_map\n",
    "import torch"
   ]
  },
  {
   "cell_type": "markdown",
   "metadata": {},
   "source": [
    "# PLAX Single-View Screening Model"
   ]
  },
  {
   "cell_type": "code",
   "execution_count": 3,
   "metadata": {},
   "outputs": [
    {
     "name": "stdout",
     "output_type": "stream",
     "text": [
      "患者可能患有心肌病的概率为：0.98\n"
     ]
    }
   ],
   "source": [
    "# load data\n",
    "patient_data = load_view(\"model_data/patient_data/00001/PLAX\")\n",
    "plax_screening = SingleViewScreening(device=\"cuda:0\",model_weight=\"model_data/screening/PLAX.pt\")\n",
    "result = plax_screening(patient_data)\n",
    "print(f\"The probability that the patient may have cardiomyopathy is: {result.item():.2f}\")"
   ]
  },
  {
   "cell_type": "markdown",
   "metadata": {},
   "source": [
    "# A2C Single-View Screening Model"
   ]
  },
  {
   "cell_type": "code",
   "execution_count": 5,
   "metadata": {},
   "outputs": [
    {
     "name": "stdout",
     "output_type": "stream",
     "text": [
      "患者可能患有心肌病的概率为：0.99\n"
     ]
    }
   ],
   "source": [
    "# load data\n",
    "patient_data = load_view(\"model_data/patient_data/00001/A2C\")\n",
    "plax_screening = SingleViewScreening(\"cuda:0\",\"model_data/screening/A2C.pt\")\n",
    "result = plax_screening(patient_data)\n",
    "print(\n",
    "    f\"The probability that the patient may have cardiomyopathy is: {result.item():.2f}\")"
   ]
  },
  {
   "cell_type": "markdown",
   "metadata": {},
   "source": [
    "# A3C Single-View Screening Model"
   ]
  },
  {
   "cell_type": "code",
   "execution_count": 7,
   "metadata": {},
   "outputs": [
    {
     "name": "stdout",
     "output_type": "stream",
     "text": [
      "患者可能患有心肌病的概率为：0.99\n"
     ]
    }
   ],
   "source": [
    "# load data\n",
    "patient_data = load_view(\"model_data/patient_data/00001/A3C\")\n",
    "plax_screening = SingleViewScreening(\"cuda:0\",\"model_data/screening/A3C.pt\")\n",
    "result = plax_screening(patient_data)\n",
    "print(\n",
    "    f\"The probability that the patient may have cardiomyopathy is: {result.item():.2f}\")"
   ]
  },
  {
   "cell_type": "markdown",
   "metadata": {},
   "source": [
    "# A4C Single-View Screening Model"
   ]
  },
  {
   "cell_type": "code",
   "execution_count": 9,
   "metadata": {},
   "outputs": [
    {
     "name": "stdout",
     "output_type": "stream",
     "text": [
      "患者可能患有心肌病的概率为：0.99\n"
     ]
    }
   ],
   "source": [
    "# load data\n",
    "patient_data = load_view(\"model_data/patient_data/00001/A4C\")\n",
    "plax_screening = SingleViewScreening(\"cuda:0\",\"model_data/screening/A4C.pt\")\n",
    "result = plax_screening(patient_data)\n",
    "print(\n",
    "    f\"The probability that the patient may have cardiomyopathy is: {result.item():.2f}\")"
   ]
  },
  {
   "cell_type": "markdown",
   "metadata": {},
   "source": [
    "# A4C Single-View Diagnostic Model"
   ]
  },
  {
   "cell_type": "code",
   "execution_count": 12,
   "metadata": {},
   "outputs": [
    {
     "name": "stdout",
     "output_type": "stream",
     "text": [
      "患者可能患有心肌病的概率为：\n",
      "RCM  : 0.18\n",
      "DCM  : 0.26\n",
      "ARVC : 0.26\n",
      "NDLVC: 0.14\n",
      "HCM  : 0.16\n"
     ]
    }
   ],
   "source": [
    "# load data\n",
    "patient_data = load_view(\"model_data/patient_data/00001/A4C\")\n",
    "plax_diagnosis = SingleViewDiagnosis(\"cuda:0\",\"model_data/diagnosis/A4C.pt\")\n",
    "result = plax_diagnosis(patient_data)\n",
    "prob_list = result.cpu().tolist()\n",
    "print(\"The probability that the patient may suffer from various types of cardiomyopathy is:\")\n",
    "for i in range(5):\n",
    "    print(f\"{label_map[i]:5}: {prob_list[i]:.2f}\")"
   ]
  },
  {
   "cell_type": "markdown",
   "metadata": {},
   "source": [
    "# A3C + A4C Multi-View Diagnostic Model"
   ]
  },
  {
   "cell_type": "code",
   "execution_count": 14,
   "metadata": {},
   "outputs": [
    {
     "name": "stdout",
     "output_type": "stream",
     "text": [
      "患者可能患有心肌病的概率为：\n",
      "RCM  : 0.18\n",
      "DCM  : 0.28\n",
      "ARVC : 0.21\n",
      "NDLVC: 0.19\n",
      "HCM  : 0.14\n"
     ]
    }
   ],
   "source": [
    "# load data\n",
    "patient_data_a3c = load_view(\"model_data/patient_data/00001/A3C\")\n",
    "patient_data_a4c = load_view(\"model_data/patient_data/00001/A4C\")\n",
    "patient_data = torch.stack([patient_data_a3c, patient_data_a4c])\n",
    "multi_view_diagnosis = MultileViewDiagnosis(\"cuda:0\",\"model_data/diagnosis/A3C+A4C.pt\")\n",
    "result = multi_view_diagnosis(patient_data)\n",
    "prob_list = result.cpu().tolist()\n",
    "print(\"The probability that the patient may suffer from various types of cardiomyopathy is:\")\n",
    "for i in range(5):\n",
    "    print(f\"{label_map[i]:5}: {prob_list[i]:.2f}\")"
   ]
  }
 ],
 "metadata": {
  "kernelspec": {
   "display_name": ".venv",
   "language": "python",
   "name": "python3"
  },
  "language_info": {
   "codemirror_mode": {
    "name": "ipython",
    "version": 3
   },
   "file_extension": ".py",
   "mimetype": "text/x-python",
   "name": "python",
   "nbconvert_exporter": "python",
   "pygments_lexer": "ipython3",
   "version": "3.10.18"
  }
 },
 "nbformat": 4,
 "nbformat_minor": 2
}
